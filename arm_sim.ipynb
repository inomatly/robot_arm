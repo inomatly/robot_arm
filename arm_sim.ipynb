{
 "cells": [
  {
   "cell_type": "code",
   "execution_count": 5,
   "metadata": {},
   "outputs": [
    {
     "data": {
      "application/vnd.jupyter.widget-view+json": {
       "model_id": "7b0d540d7eed47ff950aac8ad8097330",
       "version_major": 2,
       "version_minor": 0
      },
      "text/plain": [
       "interactive(children=(FloatSlider(value=1.0, description='refPoint_x', max=1.414213562373095, min=-1.414213562…"
      ]
     },
     "metadata": {},
     "output_type": "display_data"
    }
   ],
   "source": [
    "# -*- coding: utf-8 -*-\n",
    "import numpy as np\n",
    "import matplotlib.pyplot as plt\n",
    "from ipywidgets import interact, interactive, fixed, interact_manual\n",
    "import math\n",
    "%matplotlib inline\n",
    "# 逆運動学の計算\n",
    "def arm_th(L, p1):\n",
    "    x, y = p1\n",
    "    l0, l1 = L\n",
    "    norm = math.sqrt((x*x) + (y*y))\n",
    "    th0 = math.atan2(y , x) + math.acos(((x * x) +(y * y)+(l0*l0)- (l1*l1)) / (2*l0*norm))\n",
    "    th1 = -th0 + math.atan2((y-l0*math.sin(th0)),(x-l0*math.cos(th0)))\n",
    "    return [th0, th1]\n",
    "\n",
    "# 順運動学の計算\n",
    "def arm_pos(L,the):\n",
    "    l0,l1=L\n",
    "    th0,th1=the\n",
    "    x0 = l0 * math.cos(th0)\n",
    "    y0 = l0 * math.sin(th0)\n",
    "    # リンク2の手先\n",
    "    x1 = x0 + l1 * math.cos(th0 + th1)\n",
    "    y1 = y0 + l1 * math.sin(th0 + th1)\n",
    "    return np.array([[0,0],[x0,y0],[x1,y1]])\n",
    "\n",
    "def main():\n",
    "    # リンク1, 2の長さ\n",
    "    length = [1,1]\n",
    "    # グラフ描画位置\n",
    "    @interact(refPoint_x=(-(length[0]+length[1])/math.sqrt(2),(length[0]+length[1])/math.sqrt(2)),refPoint_y=(-(length[0]+length[1])/math.sqrt(2),(length[0]+length[1])/math.sqrt(2)))\n",
    "    def draw(refPoint_x=1,refPoint_y=1):\n",
    "        refPoint=[refPoint_x,refPoint_y]\n",
    "        #px = #目標位置\n",
    "        th = arm_th(length, refPoint)#必要角度,引数は4つ\n",
    "        p = arm_pos(length, th)#アーム位置計算\n",
    "        fig, ax = plt.subplots()\n",
    "        plt.axis('equal')\n",
    "        plt.subplots_adjust(left=0.1, bottom=0.15)\n",
    "        plt.grid()#グラフ上の設定\n",
    "        plt.xlim([-2.5, 2.5])\n",
    "        plt.ylim([-2.5, 2.5])\n",
    "        # グラフ描画\n",
    "        graph, = plt.plot(p.T[0], p.T[1])\n",
    "        graph.set_linestyle('-')\n",
    "        graph.set_linewidth(10)\n",
    "        graph.set_marker('o')\n",
    "        graph.set_markerfacecolor('y')\n",
    "        graph.set_markersize(15)\n",
    "    \n",
    "if __name__ == '__main__':\n",
    "    main()"
   ]
  },
  {
   "cell_type": "code",
   "execution_count": null,
   "metadata": {},
   "outputs": [],
   "source": []
  },
  {
   "cell_type": "code",
   "execution_count": null,
   "metadata": {},
   "outputs": [],
   "source": []
  },
  {
   "cell_type": "code",
   "execution_count": null,
   "metadata": {},
   "outputs": [],
   "source": []
  },
  {
   "cell_type": "code",
   "execution_count": null,
   "metadata": {},
   "outputs": [],
   "source": []
  }
 ],
 "metadata": {
  "kernelspec": {
   "display_name": "Python 3",
   "language": "python",
   "name": "python3"
  },
  "language_info": {
   "codemirror_mode": {
    "name": "ipython",
    "version": 3
   },
   "file_extension": ".py",
   "mimetype": "text/x-python",
   "name": "python",
   "nbconvert_exporter": "python",
   "pygments_lexer": "ipython3",
   "version": "3.7.1"
  }
 },
 "nbformat": 4,
 "nbformat_minor": 2
}
